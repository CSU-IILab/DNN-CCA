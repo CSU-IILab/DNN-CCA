{
 "cells": [
  {
   "cell_type": "markdown",
   "metadata": {},
   "source": [
    "# Deep neural network aided CCA - Case Study I\n"
   ]
  },
  {
   "cell_type": "markdown",
   "metadata": {},
   "source": [
    "## 1 Linear CCA\n",
    "\n",
    "The following command executes *lcca_detect.py* in the \"lib\" folder, performing linear CCA for process monitoring"
   ]
  },
  {
   "cell_type": "code",
   "execution_count": null,
   "metadata": {
    "ExecuteTime": {
     "end_time": "2021-04-02T03:40:25.986212Z",
     "start_time": "2021-04-02T03:40:23.964455Z"
    }
   },
   "outputs": [],
   "source": [
    "%run lib/lcca_detect.py"
   ]
  },
  {
   "cell_type": "markdown",
   "metadata": {},
   "source": [
    "## 2 Deep neural network aided CCA\n",
    "\n",
    "This is a script to run the deep neural network aided CCA model, it controls the running of the model by executing lib/run_dcca.py. Parameters include:\n",
    "\n",
    "- model: which neural network to run, optional among {\"cnn\", \"lstm\", \"gru\", \"attention\"}\n",
    "- train: whether to retrain the model, can be \"True\" or \"False\"; if \"False\", the model will be tested with results saved in \"result\" folder.\n",
    "- epoch: iteration times of training dataset\n",
    "- window-len: length of sliding window\n",
    "- output-dim: dimensions of neural network output vector\n",
    "- model-index: label assigned to a particular model\n",
    "\n",
    "\n",
    "\n",
    "\n",
    "**Note:** This notebook should only be used to adjust hyperparameters and test the designed model. If you need to modify the model structure, find the corresponding file in the \"lib\" folder."
   ]
  },
  {
   "cell_type": "markdown",
   "metadata": {},
   "source": [
    "*The following code can be executed repeatedly, the given parameters are not optimal. Please refer to the paper for more details.*"
   ]
  },
  {
   "cell_type": "code",
   "execution_count": null,
   "metadata": {
    "ExecuteTime": {
     "end_time": "2021-04-02T03:41:25.166646Z",
     "start_time": "2021-04-02T03:40:33.019704Z"
    }
   },
   "outputs": [],
   "source": [
    "%run lib/run_dcca.py --model=cnn --train=False --epoch=100 --window-len=70 --output-dim=30 --model-index=1"
   ]
  },
  {
   "cell_type": "code",
   "execution_count": null,
   "metadata": {},
   "outputs": [],
   "source": []
  }
 ],
 "metadata": {
  "kernelspec": {
   "display_name": "Python 3",
   "language": "python",
   "name": "python3"
  },
  "language_info": {
   "codemirror_mode": {
    "name": "ipython",
    "version": 3
   },
   "file_extension": ".py",
   "mimetype": "text/x-python",
   "name": "python",
   "nbconvert_exporter": "python",
   "pygments_lexer": "ipython3",
   "version": "3.7.6"
  }
 },
 "nbformat": 4,
 "nbformat_minor": 4
}
